{
 "cells": [
  {
   "cell_type": "code",
   "execution_count": 11,
   "metadata": {},
   "outputs": [],
   "source": [
    "import pandas as pd\n",
    "import numpy as np \n",
    "import matplotlib.pyplot as plt \n",
    "%matplotlib inline \n",
    "\n",
    "import seaborn as sns \n",
    "from sklearn.model_selection import train_test_split \n",
    "from sklearn.ensemble import RandomForestClassifier\n",
    "\n",
    "from sklearn.metrics import f1_score"
   ]
  },
  {
   "cell_type": "markdown",
   "metadata": {},
   "source": [
    "# Import the dataset"
   ]
  },
  {
   "cell_type": "code",
   "execution_count": 2,
   "metadata": {},
   "outputs": [
    {
     "data": {
      "text/html": [
       "<div>\n",
       "<style scoped>\n",
       "    .dataframe tbody tr th:only-of-type {\n",
       "        vertical-align: middle;\n",
       "    }\n",
       "\n",
       "    .dataframe tbody tr th {\n",
       "        vertical-align: top;\n",
       "    }\n",
       "\n",
       "    .dataframe thead th {\n",
       "        text-align: right;\n",
       "    }\n",
       "</style>\n",
       "<table border=\"1\" class=\"dataframe\">\n",
       "  <thead>\n",
       "    <tr style=\"text-align: right;\">\n",
       "      <th></th>\n",
       "      <th>Age</th>\n",
       "      <th>BMI</th>\n",
       "      <th>Blood_Pressure</th>\n",
       "      <th>Cholesterol</th>\n",
       "      <th>Glucose_Level</th>\n",
       "      <th>Heart_Rate</th>\n",
       "      <th>Sleep_Hours</th>\n",
       "      <th>Exercise_Hours</th>\n",
       "      <th>Water_Intake</th>\n",
       "      <th>Stress_Level</th>\n",
       "      <th>...</th>\n",
       "      <th>Diet</th>\n",
       "      <th>MentalHealth</th>\n",
       "      <th>PhysicalActivity</th>\n",
       "      <th>MedicalHistory</th>\n",
       "      <th>Allergies</th>\n",
       "      <th>Diet_Type__Vegan</th>\n",
       "      <th>Diet_Type__Vegetarian</th>\n",
       "      <th>Blood_Group_AB</th>\n",
       "      <th>Blood_Group_B</th>\n",
       "      <th>Blood_Group_O</th>\n",
       "    </tr>\n",
       "  </thead>\n",
       "  <tbody>\n",
       "    <tr>\n",
       "      <th>0</th>\n",
       "      <td>2.0</td>\n",
       "      <td>26.0</td>\n",
       "      <td>111.0</td>\n",
       "      <td>198.0</td>\n",
       "      <td>99.0</td>\n",
       "      <td>72.0</td>\n",
       "      <td>4.0</td>\n",
       "      <td>1.0</td>\n",
       "      <td>5.0</td>\n",
       "      <td>5.0</td>\n",
       "      <td>...</td>\n",
       "      <td>1</td>\n",
       "      <td>2</td>\n",
       "      <td>1</td>\n",
       "      <td>0</td>\n",
       "      <td>1</td>\n",
       "      <td>False</td>\n",
       "      <td>True</td>\n",
       "      <td>True</td>\n",
       "      <td>False</td>\n",
       "      <td>False</td>\n",
       "    </tr>\n",
       "    <tr>\n",
       "      <th>1</th>\n",
       "      <td>8.0</td>\n",
       "      <td>24.0</td>\n",
       "      <td>121.0</td>\n",
       "      <td>199.0</td>\n",
       "      <td>103.0</td>\n",
       "      <td>75.0</td>\n",
       "      <td>2.0</td>\n",
       "      <td>1.0</td>\n",
       "      <td>2.0</td>\n",
       "      <td>9.0</td>\n",
       "      <td>...</td>\n",
       "      <td>1</td>\n",
       "      <td>2</td>\n",
       "      <td>1</td>\n",
       "      <td>2</td>\n",
       "      <td>2</td>\n",
       "      <td>False</td>\n",
       "      <td>False</td>\n",
       "      <td>True</td>\n",
       "      <td>False</td>\n",
       "      <td>False</td>\n",
       "    </tr>\n",
       "    <tr>\n",
       "      <th>2</th>\n",
       "      <td>81.0</td>\n",
       "      <td>27.0</td>\n",
       "      <td>147.0</td>\n",
       "      <td>203.0</td>\n",
       "      <td>100.0</td>\n",
       "      <td>74.0</td>\n",
       "      <td>10.0</td>\n",
       "      <td>-0.0</td>\n",
       "      <td>5.0</td>\n",
       "      <td>1.0</td>\n",
       "      <td>...</td>\n",
       "      <td>2</td>\n",
       "      <td>0</td>\n",
       "      <td>0</td>\n",
       "      <td>1</td>\n",
       "      <td>0</td>\n",
       "      <td>True</td>\n",
       "      <td>False</td>\n",
       "      <td>False</td>\n",
       "      <td>False</td>\n",
       "      <td>False</td>\n",
       "    </tr>\n",
       "  </tbody>\n",
       "</table>\n",
       "<p>3 rows × 23 columns</p>\n",
       "</div>"
      ],
      "text/plain": [
       "    Age   BMI  Blood_Pressure  Cholesterol  Glucose_Level  Heart_Rate  \\\n",
       "0   2.0  26.0           111.0        198.0           99.0        72.0   \n",
       "1   8.0  24.0           121.0        199.0          103.0        75.0   \n",
       "2  81.0  27.0           147.0        203.0          100.0        74.0   \n",
       "\n",
       "   Sleep_Hours  Exercise_Hours  Water_Intake  Stress_Level  ...  Diet  \\\n",
       "0          4.0             1.0           5.0           5.0  ...     1   \n",
       "1          2.0             1.0           2.0           9.0  ...     1   \n",
       "2         10.0            -0.0           5.0           1.0  ...     2   \n",
       "\n",
       "   MentalHealth  PhysicalActivity  MedicalHistory  Allergies  \\\n",
       "0             2                 1               0          1   \n",
       "1             2                 1               2          2   \n",
       "2             0                 0               1          0   \n",
       "\n",
       "   Diet_Type__Vegan  Diet_Type__Vegetarian  Blood_Group_AB  Blood_Group_B  \\\n",
       "0             False                   True            True          False   \n",
       "1             False                  False            True          False   \n",
       "2              True                  False           False          False   \n",
       "\n",
       "   Blood_Group_O  \n",
       "0          False  \n",
       "1          False  \n",
       "2          False  \n",
       "\n",
       "[3 rows x 23 columns]"
      ]
     },
     "execution_count": 2,
     "metadata": {},
     "output_type": "execute_result"
    }
   ],
   "source": [
    "data = pd.read_csv(\"dataset.csv\")\n",
    "data.head(3)"
   ]
  },
  {
   "cell_type": "code",
   "execution_count": 3,
   "metadata": {},
   "outputs": [
    {
     "data": {
      "text/plain": [
       "Age                      float64\n",
       "BMI                      float64\n",
       "Blood_Pressure           float64\n",
       "Cholesterol              float64\n",
       "Glucose_Level            float64\n",
       "Heart_Rate               float64\n",
       "Sleep_Hours              float64\n",
       "Exercise_Hours           float64\n",
       "Water_Intake             float64\n",
       "Stress_Level             float64\n",
       "Target                     int64\n",
       "Smoking                    int64\n",
       "Alcohol                    int64\n",
       "Diet                       int64\n",
       "MentalHealth               int64\n",
       "PhysicalActivity           int64\n",
       "MedicalHistory             int64\n",
       "Allergies                  int64\n",
       "Diet_Type__Vegan            bool\n",
       "Diet_Type__Vegetarian       bool\n",
       "Blood_Group_AB              bool\n",
       "Blood_Group_B               bool\n",
       "Blood_Group_O               bool\n",
       "dtype: object"
      ]
     },
     "execution_count": 3,
     "metadata": {},
     "output_type": "execute_result"
    }
   ],
   "source": [
    "#All the datatypes are in integer or float\n",
    "data.dtypes\n"
   ]
  },
  {
   "cell_type": "code",
   "execution_count": 5,
   "metadata": {},
   "outputs": [
    {
     "data": {
      "text/plain": [
       "Age                      0\n",
       "BMI                      0\n",
       "Blood_Pressure           0\n",
       "Cholesterol              0\n",
       "Glucose_Level            0\n",
       "Heart_Rate               0\n",
       "Sleep_Hours              0\n",
       "Exercise_Hours           0\n",
       "Water_Intake             0\n",
       "Stress_Level             0\n",
       "Target                   0\n",
       "Smoking                  0\n",
       "Alcohol                  0\n",
       "Diet                     0\n",
       "MentalHealth             0\n",
       "PhysicalActivity         0\n",
       "MedicalHistory           0\n",
       "Allergies                0\n",
       "Diet_Type__Vegan         0\n",
       "Diet_Type__Vegetarian    0\n",
       "Blood_Group_AB           0\n",
       "Blood_Group_B            0\n",
       "Blood_Group_O            0\n",
       "dtype: int64"
      ]
     },
     "execution_count": 5,
     "metadata": {},
     "output_type": "execute_result"
    }
   ],
   "source": [
    "# check for the null values \n",
    "# We see that there is no null values \n",
    "\n",
    "data.isnull().sum()"
   ]
  },
  {
   "cell_type": "markdown",
   "metadata": {},
   "source": [
    "# Split the data in train , validation and test dataset "
   ]
  },
  {
   "cell_type": "code",
   "execution_count": 9,
   "metadata": {},
   "outputs": [
    {
     "name": "stdout",
     "output_type": "stream",
     "text": [
      "5729 5729\n",
      "1910 1910\n",
      "1910 1910\n",
      "9549\n"
     ]
    }
   ],
   "source": [
    "X = data.drop('Target', axis=1)\n",
    "y = data['Target']\n",
    "\n",
    "x_train, x_test, y_train, y_test = train_test_split(X, y, test_size=0.2,random_state=30, stratify=y, shuffle=True)\n",
    "\n",
    "x_train, x_val, y_train, y_val = train_test_split(x_train, y_train, test_size=0.25, random_state=31,stratify=y_train)\n",
    "\n",
    "print(len(x_train), len(y_train))\n",
    "print(len(x_val), len(y_val))\n",
    "print(len(x_test), len(y_test))\n",
    "print(len(data))"
   ]
  },
  {
   "cell_type": "markdown",
   "metadata": {},
   "source": [
    "# Test the model with Decision Tree Classifer"
   ]
  },
  {
   "cell_type": "code",
   "execution_count": 13,
   "metadata": {},
   "outputs": [
    {
     "name": "stdout",
     "output_type": "stream",
     "text": [
      "DecisionTree F1 Score for training dataset 0.9190635451505017\n",
      "DecisionTree F1 Score for validation dataset 0.8969636635141862\n"
     ]
    }
   ],
   "source": [
    "from sklearn.tree import DecisionTreeClassifier\n",
    "\n",
    "dt_model = DecisionTreeClassifier( max_depth=20, min_samples_leaf=15, random_state=39)\n",
    "dt_model.fit(x_train, y_train)\n",
    "\n",
    "dt_y_train_pred = dt_model.predict(x_train)\n",
    "dt_y_val_pred = dt_model.predict(x_val)\n",
    "\n",
    "dt_f1_score_train = f1_score(y_train, dt_y_train_pred)\n",
    "dt_f1_score_val = f1_score(y_val, dt_y_val_pred)\n",
    "\n",
    "print(f\"DecisionTree F1 Score for training dataset {dt_f1_score_train}\")\n",
    "print(f\"DecisionTree F1 Score for validation dataset {dt_f1_score_val}\")"
   ]
  },
  {
   "cell_type": "markdown",
   "metadata": {},
   "source": [
    "# Test the model with Bagging Classifier"
   ]
  },
  {
   "cell_type": "code",
   "execution_count": 15,
   "metadata": {},
   "outputs": [
    {
     "name": "stdout",
     "output_type": "stream",
     "text": [
      "Bagging Classifier with Decision Tree on Training Dataset F1 Score is : 0.9390586292320396\n",
      "Bagging Classifier with Decision Tree on Validation Dataset F1 Score is : 0.9190523198420533\n"
     ]
    }
   ],
   "source": [
    "from sklearn.ensemble import BaggingClassifier\n",
    "\n",
    "# the base classifer could be anything like KNNClassifier or Logistic Classifier or DecsisionTree Classifier\n",
    "dt_base_classifer = DecisionTreeClassifier(max_depth=20, min_samples_leaf=15, random_state=38)\n",
    "\n",
    "bagging_model = BaggingClassifier(dt_base_classifer, n_estimators=110, random_state=37, n_jobs=-1 )\n",
    "\n",
    "bagging_model.fit(x_train, y_train)\n",
    "\n",
    "bag_y_train_pred =  bagging_model.predict(x_train)\n",
    "bag_y_val_pred = bagging_model.predict(x_val)\n",
    "\n",
    "bag_train_f1_score = f1_score(y_train, bag_y_train_pred)\n",
    "bag_val_f1_score = f1_score(y_val, bag_y_val_pred)\n",
    "\n",
    "print(f\"Bagging Classifier with Decision Tree on Training Dataset F1 Score is : {bag_train_f1_score}\")\n",
    "\n",
    "print(f\"Bagging Classifier with Decision Tree on Validation Dataset F1 Score is : {bag_val_f1_score}\")"
   ]
  },
  {
   "cell_type": "markdown",
   "metadata": {},
   "source": [
    "# Test the Model with RandomForest Classifer"
   ]
  },
  {
   "cell_type": "markdown",
   "metadata": {},
   "source": [
    "Here we have \n",
    "n_estimators  to define how many individual decision trees will  built in the forest and this helps to reduce overfitting \n",
    "Out_Of_Bag Score : has built in validation in random forest without the validation dataset . \n",
    "\n",
    "Each tree is trained on random subset of data with replacement , ie some can be selected multiple times and others not.\n"
   ]
  },
  {
   "cell_type": "code",
   "execution_count": 14,
   "metadata": {},
   "outputs": [
    {
     "name": "stdout",
     "output_type": "stream",
     "text": [
      "Random RainForest F1 score train : 93.45%\n",
      "Random RainForest F1 score validation : 91.76%\n"
     ]
    }
   ],
   "source": [
    "\n",
    "rf_model = RandomForestClassifier(max_depth=20, min_samples_leaf=15, random_state=40,n_estimators=70, n_jobs=-1)\n",
    "\n",
    "rf_model.fit(x_train, y_train)\n",
    "\n",
    "y_train_pred = rf_model.predict(x_train)\n",
    "f1_train_pred = f1_score(y_train, y_train_pred)\n",
    "\n",
    "y_val_pred = rf_model.predict(x_val)\n",
    "f1_val_pred = f1_score(y_val, y_val_pred)\n",
    "\n",
    "\n",
    "print(f\"Random RainForest F1 score train : { round(f1_train_pred*100, 2) }%\")\n",
    "print(f\"Random RainForest F1 score validation : { round(f1_val_pred*100, 2) }%\")"
   ]
  },
  {
   "cell_type": "markdown",
   "metadata": {},
   "source": [
    "# Lets try with out of box score \n",
    "How Can we say OOB score helps to get the n_estimators ? \n",
    "Below visualization would helps us"
   ]
  },
  {
   "cell_type": "code",
   "execution_count": 17,
   "metadata": {},
   "outputs": [
    {
     "name": "stderr",
     "output_type": "stream",
     "text": [
      "c:\\Users\\User\\anaconda3\\envs\\jsv_python\\lib\\site-packages\\sklearn\\ensemble\\_forest.py:615: UserWarning: Some inputs do not have OOB scores. This probably means too few trees were used to compute any reliable OOB estimates.\n",
      "  warn(\n"
     ]
    },
    {
     "name": "stdout",
     "output_type": "stream",
     "text": [
      "10              0.9356           0.8790\n",
      "20              0.9403           0.8989\n",
      "30              0.9407           0.9061\n",
      "40              0.9427           0.9070\n",
      "50              0.9450           0.9112\n",
      "60              0.9454           0.9108\n",
      "70              0.9452           0.9120\n",
      "80              0.9441           0.9101\n",
      "90              0.9454           0.9132\n",
      "100             0.9483           0.9152\n",
      "110             0.9473           0.9162\n",
      "120             0.9476           0.9148\n",
      "130             0.9468           0.9167\n",
      "140             0.9476           0.9173\n",
      "150             0.9478           0.9192\n",
      "160             0.9482           0.9176\n",
      "170             0.9480           0.9181\n",
      "180             0.9475           0.9183\n",
      "190             0.9485           0.9187\n",
      "200             0.9480           0.9187\n",
      "210             0.9480           0.9185\n",
      "220             0.9480           0.9178\n",
      "230             0.9482           0.9181\n",
      "240             0.9480           0.9169\n"
     ]
    }
   ],
   "source": [
    "n_estimators_range = range (10,250, 10)\n",
    "\n",
    "train_scores = []\n",
    "oobs_scores = []\n",
    "\n",
    "rf_clf_model = RandomForestClassifier(oob_score=True, random_state=45, n_jobs=-1)\n",
    "\n",
    "for n_estimator in n_estimators_range:\n",
    "    rf_clf_model.set_params(n_estimators=n_estimator, max_depth=20, min_samples_leaf=10)\n",
    "    rf_clf_model.fit(x_train,y_train)\n",
    "\n",
    "    train_score = rf_clf_model.score(x_train, y_train)\n",
    "    train_scores.append(train_score)\n",
    "\n",
    "    oobs_score = rf_clf_model.oob_score_\n",
    "    oobs_scores.append(oobs_score)\n",
    "\n",
    "    print(f\"{n_estimator:<15} {train_score:<15.4f}  {oobs_score:.4f}\")"
   ]
  },
  {
   "cell_type": "code",
   "execution_count": 19,
   "metadata": {},
   "outputs": [
    {
     "data": {
      "image/png": "[encoded data removed]",
      "text/plain": [
       "<Figure size 700x500 with 1 Axes>"
      ]
     },
     "metadata": {},
     "output_type": "display_data"
    }
   ],
   "source": [
    "plt.figure(figsize=(7,5))\n",
    "plt.plot(n_estimators_range, train_scores, label=\"Train Scores\")\n",
    "plt.plot(n_estimators_range, oobs_scores, label=\"OOB Score\")\n",
    "plt.xlabel(\"Number of Estimators\")\n",
    "plt.ylabel(\"Score\")\n",
    "plt.title(\"Train and OOB Score vs No of Estimators\")\n",
    "plt.show()"
   ]
  },
  {
   "cell_type": "markdown",
   "metadata": {},
   "source": [
    "Here we can see when no of estimators is less , the gap between oob score and train score is more,  there is overfitting \n",
    "After 90 , we see there is no change , so going with 90 number of estimators should be good. \n"
   ]
  },
  {
   "cell_type": "markdown",
   "metadata": {},
   "source": [
    "# Lets see the performance of Random forest in the test set "
   ]
  },
  {
   "cell_type": "code",
   "execution_count": 22,
   "metadata": {},
   "outputs": [
    {
     "name": "stdout",
     "output_type": "stream",
     "text": [
      "The F1 Score on the testing dataset is 91.21% \n"
     ]
    }
   ],
   "source": [
    "y_test_pred = rf_model.predict(x_test)\n",
    "\n",
    "test_f1_score = f1_score(y_test, y_test_pred)\n",
    "\n",
    "print(f\"The F1 Score on the testing dataset is { np.round(test_f1_score*100,2)}% \")"
   ]
  },
  {
   "cell_type": "code",
   "execution_count": null,
   "metadata": {},
   "outputs": [],
   "source": []
  }
 ],
 "metadata": {
  "kernelspec": {
   "display_name": "jsv_python",
   "language": "python",
   "name": "python3"
  },
  "language_info": {
   "codemirror_mode": {
    "name": "ipython",
    "version": 3
   },
   "file_extension": ".py",
   "mimetype": "text/x-python",
   "name": "python",
   "nbconvert_exporter": "python",
   "pygments_lexer": "ipython3",
   "version": "3.10.15"
  }
 },
 "nbformat": 4,
 "nbformat_minor": 2
}
